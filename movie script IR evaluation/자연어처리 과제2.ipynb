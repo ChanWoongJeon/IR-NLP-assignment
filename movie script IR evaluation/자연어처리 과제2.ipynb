{
 "cells": [
  {
   "cell_type": "markdown",
   "metadata": {},
   "source": [
    "Information retrieval assignment 2"
   ]
  },
  {
   "cell_type": "markdown",
   "metadata": {},
   "source": [
    "소프트웨어학부 20186663 전찬웅"
   ]
  },
  {
   "cell_type": "markdown",
   "metadata": {},
   "source": [
    "0. make word-tokenizen"
   ]
  },
  {
   "cell_type": "code",
   "execution_count": 11,
   "metadata": {},
   "outputs": [],
   "source": [
    "stop_word = [\"a\", \"about\", \"above\", \"across\", \"after\", \"afterwards\", \"again\", \"against\", \"all\", \"almost\", \"alone\", \"along\", \"already\", \"also\",\"although\",\"always\",\"am\",\"among\", \"amongst\", \"amoungst\", \"amount\",  \"an\", \"and\", \"another\", \"any\",\"anyhow\",\"anyone\",\"anything\",\"anyway\", \"anywhere\", \"are\", \"around\", \"as\",  \"at\", \"back\",\"be\",\"became\", \"because\",\"become\",\"becomes\", \"becoming\", \"been\", \"before\", \"beforehand\", \"behind\", \"being\", \"below\", \"beside\", \"besides\", \"between\", \"beyond\", \"bill\", \"both\", \"bottom\",\"but\", \"by\", \"call\", \"can\", \"cannot\", \"cant\", \"co\", \"con\", \"could\", \"couldnt\", \"cry\", \"de\", \"describe\", \"detail\", \"do\", \"done\", \"down\", \"due\", \"during\", \"each\", \"eg\", \"eight\", \"either\", \"eleven\",\"else\", \"elsewhere\", \"empty\", \"enough\", \"etc\", \"even\", \"ever\", \"every\", \"everyone\", \"everything\", \"everywhere\", \"except\", \"few\", \"fifteen\", \"fify\", \"fill\", \"find\", \"fire\", \"first\", \"five\", \"for\", \"former\", \"formerly\", \"forty\", \"found\", \"four\", \"from\", \"front\", \"full\", \"further\", \"get\", \"give\", \"go\", \"had\", \"has\", \"hasnt\", \"have\", \"he\", \"hence\", \"her\", \"here\", \"hereafter\", \"hereby\", \"herein\", \"hereupon\", \"hers\", \"herself\", \"him\", \"himself\", \"his\", \"how\", \"however\", \"hundred\", \"ie\", \"if\", \"in\", \"inc\", \"indeed\", \"interest\", \"into\", \"is\", \"it\", \"its\", \"itself\", \"keep\", \"last\", \"latter\", \"latterly\", \"least\", \"less\", \"ltd\", \"made\", \"many\", \"may\", \"me\", \"meanwhile\", \"might\", \"mill\", \"mine\", \"more\", \"moreover\", \"most\", \"mostly\", \"move\", \"much\", \"must\", \"my\", \"myself\", \"name\", \"namely\", \"neither\", \"never\", \"nevertheless\", \"next\", \"nine\", \"no\", \"nobody\", \"none\", \"noone\", \"nor\", \"not\", \"nothing\", \"now\", \"nowhere\", \"of\", \"off\", \"often\", \"on\", \"once\", \"one\", \"only\", \"onto\", \"or\", \"other\", \"others\", \"otherwise\", \"our\", \"ours\", \"ourselves\", \"out\", \"over\", \"own\",\"part\", \"per\", \"perhaps\", \"please\", \"put\", \"rather\", \"re\", \"same\", \"see\", \"seem\", \"seemed\", \"seeming\", \"seems\", \"serious\", \"several\", \"she\", \"should\", \"show\", \"side\", \"since\", \"sincere\", \"six\", \"sixty\", \"so\", \"some\", \"somehow\", \"someone\", \"something\", \"sometime\", \"sometimes\", \"somewhere\", \"still\", \"such\", \"system\", \"take\", \"ten\", \"than\", \"that\", \"the\", \"their\", \"them\", \"themselves\", \"then\", \"thence\", \"there\", \"thereafter\", \"thereby\", \"therefore\", \"therein\", \"thereupon\", \"these\", \"they\", \"thick\", \"thin\", \"third\", \"this\", \"those\", \"though\", \"three\", \"through\", \"throughout\", \"thru\", \"thus\", \"to\", \"together\", \"too\", \"top\", \"toward\", \"towards\", \"twelve\", \"twenty\", \"two\", \"un\", \"under\", \"until\", \"up\", \"upon\", \"us\", \"very\", \"via\", \"was\", \"we\", \"well\", \"were\", \"what\", \"whatever\", \"when\", \"whence\", \"whenever\", \"where\", \"whereafter\", \"whereas\", \"whereby\", \"wherein\", \"whereupon\", \"wherever\", \"whether\", \"which\", \"while\", \"whither\", \"who\", \"whoever\", \"whole\", \"whom\", \"whose\", \"why\", \"will\", \"with\", \"within\", \"without\", \"would\", \"yet\", \"you\", \"your\", \"yours\", \"yourself\", \"yourselves\"]\n",
    "\n",
    "import re\n",
    "import string\n",
    "fre_2012 = {}\n",
    "doc_txt = open('2012.txt', 'r')\n",
    "text_string = doc_txt.read().lower()\n",
    "match = re.findall(r'\\b[a-z]{3,15}\\b', text_string)\n",
    "for word in match:\n",
    "    count = fre_2012.get(word,0)\n",
    "    fre_2012[word] = count + 1\n",
    "    \n",
    "fre_list = fre_2012.keys()\n",
    "lists=[]\n",
    "for i in range(len(stop_word)):\n",
    "    for words in fre_list:\n",
    "        if stop_word[i] == words:\n",
    "            lists.append(words)\n",
    "for j in range(len(lists)):\n",
    "    del fre_2012[lists[j]]\n",
    "\n",
    "\n",
    "fre_jurassic = {}\n",
    "doc_txt = open('jurassic park.txt', 'r')\n",
    "text_string = doc_txt.read().lower()\n",
    "match = re.findall(r'\\b[a-z]{3,15}\\b', text_string)\n",
    "for word in match:\n",
    "    count = fre_jurassic.get(word,0)\n",
    "    fre_jurassic[word] = count + 1\n",
    "    \n",
    "fre_list = fre_jurassic.keys()\n",
    "lists=[]\n",
    "for i in range(len(stop_word)):\n",
    "    for words in fre_list:\n",
    "        if stop_word[i] == words:\n",
    "            lists.append(words)\n",
    "for j in range(len(lists)):\n",
    "    del fre_jurassic[lists[j]]\n"
   ]
  },
  {
   "cell_type": "markdown",
   "metadata": {},
   "source": [
    "using TF-IDF\n",
    "    - num_2012 is frequency of 2012 words in Movie 2012.\n",
    "    - anti_num_2012 is frequency of 2012 words in Movie Jurassic Park.\n",
    "    - num_juarassic is frequency of Jurassic Park words in Movie Jurassic Park.\n",
    "    - anti_num_jurassic is frequency of Jurassic Park words in Movie 2012.\n",
    "    - count_2012 is number of document included 2012 words.\n",
    "    - count_jurassic is number of document included Jurassic Park words."
   ]
  },
  {
   "cell_type": "code",
   "execution_count": 29,
   "metadata": {},
   "outputs": [],
   "source": [
    "list_2012 = list(fre_2012)\n",
    "list_jurassic = list(fre_jurassic)\n",
    "num_2012 = list(fre_2012.values())\n",
    "anti_num_2012 = []\n",
    "num_jurassic = list(fre_jurassic.values())\n",
    "anti_num_jurassic = []\n",
    "count_2012 = []\n",
    "count_jurassic = []"
   ]
  },
  {
   "cell_type": "code",
   "execution_count": 30,
   "metadata": {},
   "outputs": [],
   "source": [
    "for i in range(len(list_2012)):\n",
    "    a = 0\n",
    "    for j in range(len(list_jurassic)):\n",
    "        if list_2012[i] == list_jurassic[j]:\n",
    "            anti_num_2012.append(num_jurassic[j])\n",
    "            a = 1\n",
    "    if a == 0:\n",
    "        anti_num_2012.append(0)\n",
    "for i in range(len(list_jurassic)):\n",
    "    a = 0\n",
    "    for j in range(len(list_2012)):\n",
    "        if list_jurassic[i] == list_2012[j]:\n",
    "            anti_num_jurassic.append(num_2012[j])\n",
    "            a = 1\n",
    "    if a == 0:\n",
    "        anti_num_jurassic.append(0)"
   ]
  },
  {
   "cell_type": "code",
   "execution_count": 31,
   "metadata": {},
   "outputs": [],
   "source": [
    "for i in range(len(list_2012)):\n",
    "    if (num_2012[i] != 0) and (anti_num_2012[i] != 0):\n",
    "        count_2012.append(2)\n",
    "    elif (num_2012[i] == 0) and (anti_num_2012[i] == 0):\n",
    "        count_2012.append(0)\n",
    "    else:\n",
    "        count_2012.append(1)\n",
    "        \n",
    "for i in range(len(list_jurassic)):\n",
    "    if (num_jurassic[i] != 0) and (anti_num_jurassic[i] != 0):\n",
    "        count_jurassic.append(2)\n",
    "    elif (num_jurassic[i] == 0) and (anti_num_jurassic[i] == 0):\n",
    "        count_jurassic.append(0)\n",
    "    else:\n",
    "        count_jurassic.append(1)"
   ]
  },
  {
   "cell_type": "markdown",
   "metadata": {},
   "source": [
    "In this time I assume that I find 2012 movie using both scripts. so relevent document is 2012 and non-relevent document is Jurassic Park "
   ]
  },
  {
   "cell_type": "markdown",
   "metadata": {},
   "source": [
    "I use TF-IDF=TF(w) * log((N+1)/DF(w))"
   ]
  },
  {
   "cell_type": "code",
   "execution_count": 47,
   "metadata": {},
   "outputs": [
    {
     "name": "stdout",
     "output_type": "stream",
     "text": [
      "1735\n",
      "1516\n"
     ]
    }
   ],
   "source": [
    "import math\n",
    "N = 2\n",
    "tp = 0\n",
    "fn = 0\n",
    "for i in range(len(num_2012)):\n",
    "    tf_idf_2012_2012 = num_2012[i]*math.log((N)/count_2012[i])\n",
    "    tf_idf_2012_jurassic = anti_num_2012[i]*math.log((N)/count_2012[i])\n",
    "    if tf_idf_2012_2012 > tf_idf_2012_jurassic:\n",
    "        tp +=1\n",
    "    else:\n",
    "        fn +=1\n",
    "print(tp)\n",
    "print(fn)"
   ]
  },
  {
   "cell_type": "code",
   "execution_count": 48,
   "metadata": {},
   "outputs": [
    {
     "name": "stdout",
     "output_type": "stream",
     "text": [
      "2646\n",
      "1516\n"
     ]
    }
   ],
   "source": [
    "N = 2\n",
    "fp = 0\n",
    "tn = 0\n",
    "for i in range(len(num_jurassic)):\n",
    "    tf_idf_jurassic_jurassic = num_jurassic[i]*math.log((N)/count_jurassic[i])\n",
    "    tf_idf_jurassic_2012 = anti_num_jurassic[i]*math.log((N)/count_jurassic[i])\n",
    "    if tf_idf_jurassic_jurassic > tf_idf_jurassic_2012:\n",
    "        tn +=1\n",
    "    else:\n",
    "        fp +=1\n",
    "print(tn)\n",
    "print(fp)"
   ]
  },
  {
   "cell_type": "markdown",
   "metadata": {},
   "source": [
    "So We can calculate recall,precision and F-measure"
   ]
  },
  {
   "cell_type": "code",
   "execution_count": 49,
   "metadata": {},
   "outputs": [
    {
     "name": "stdout",
     "output_type": "stream",
     "text": [
      "recall :  0.5336819440172255 precision :  0.5336819440172255\n",
      "F-measure :  0.5336819440172255\n"
     ]
    }
   ],
   "source": [
    "recall = tp/(tp+fn)\n",
    "precision = tp/(tp+fp)\n",
    "F_measure = 2*recall*precision/(recall+precision)\n",
    "print(\"recall : \",recall,\"precision : \",precision)\n",
    "print(\"F-measure : \",F_measure)"
   ]
  },
  {
   "cell_type": "markdown",
   "metadata": {},
   "source": [
    "(Plus Thinking) This is binary classifier(2 options) so I use TF-IDF=TF(w) * log((N+1)/DF(w)), instead TF-IDF = TF(w) * log(N/DF(w)) (because log(N/DF(w)) = 0 when DF(w)=2 (some word includes both movie script))"
   ]
  },
  {
   "cell_type": "code",
   "execution_count": 45,
   "metadata": {},
   "outputs": [],
   "source": [
    "N = 2\n",
    "tp = 0\n",
    "fn = 0\n",
    "fp = 0\n",
    "tn = 0\n",
    "for i in range(len(num_2012)):\n",
    "    tf_idf_2012_2012 = num_2012[i]*math.log((N+1)/count_2012[i])\n",
    "    tf_idf_2012_jurassic = anti_num_2012[i]*math.log((N+1)/count_2012[i])\n",
    "    if tf_idf_2012_2012 > tf_idf_2012_jurassic:\n",
    "        tp +=1\n",
    "    else:\n",
    "        fn +=1\n",
    "\n",
    "for i in range(len(num_jurassic)):\n",
    "    tf_idf_jurassic_jurassic = num_jurassic[i]*math.log((N+1)/count_jurassic[i])\n",
    "    tf_idf_jurassic_2012 = anti_num_jurassic[i]*math.log((N+1)/count_jurassic[i])\n",
    "    if tf_idf_jurassic_jurassic > tf_idf_jurassic_2012:\n",
    "        tn +=1\n",
    "    else:\n",
    "        fp +=1"
   ]
  },
  {
   "cell_type": "code",
   "execution_count": 46,
   "metadata": {},
   "outputs": [
    {
     "name": "stdout",
     "output_type": "stream",
     "text": [
      "recall :  0.6847123961857889 precision :  0.7229620006495615\n",
      "F-measure :  0.7033175355450236\n"
     ]
    }
   ],
   "source": [
    "recall = tp/(tp+fn)\n",
    "precision = tp/(tp+fp)\n",
    "F_measure = 2*recall*precision/(recall+precision)\n",
    "print(\"recall : \",recall,\"precision : \",precision)\n",
    "print(\"F-measure : \",F_measure)"
   ]
  }
 ],
 "metadata": {
  "kernelspec": {
   "display_name": "Python 3",
   "language": "python",
   "name": "python3"
  },
  "language_info": {
   "codemirror_mode": {
    "name": "ipython",
    "version": 3
   },
   "file_extension": ".py",
   "mimetype": "text/x-python",
   "name": "python",
   "nbconvert_exporter": "python",
   "pygments_lexer": "ipython3",
   "version": "3.6.10"
  }
 },
 "nbformat": 4,
 "nbformat_minor": 4
}
