{
 "cells": [
  {
   "cell_type": "markdown",
   "metadata": {},
   "source": [
    "# 자연어처리 term project 소프트웨어학부 20186663 전찬웅"
   ]
  },
  {
   "cell_type": "markdown",
   "metadata": {},
   "source": [
    "## data preprocessing"
   ]
  },
  {
   "cell_type": "code",
   "execution_count": 82,
   "metadata": {},
   "outputs": [],
   "source": [
    "import pandas as pd"
   ]
  },
  {
   "cell_type": "code",
   "execution_count": 83,
   "metadata": {},
   "outputs": [],
   "source": [
    "from sklearn.feature_extraction.text import CountVectorizer,TfidfVectorizer\n",
    "import sklearn.metrics as metrics"
   ]
  },
  {
   "cell_type": "code",
   "execution_count": 84,
   "metadata": {},
   "outputs": [],
   "source": [
    "df = pd.read_csv(\"term project.csv\")"
   ]
  },
  {
   "cell_type": "code",
   "execution_count": 85,
   "metadata": {},
   "outputs": [
    {
     "data": {
      "text/html": [
       "<div>\n",
       "<style scoped>\n",
       "    .dataframe tbody tr th:only-of-type {\n",
       "        vertical-align: middle;\n",
       "    }\n",
       "\n",
       "    .dataframe tbody tr th {\n",
       "        vertical-align: top;\n",
       "    }\n",
       "\n",
       "    .dataframe thead th {\n",
       "        text-align: right;\n",
       "    }\n",
       "</style>\n",
       "<table border=\"1\" class=\"dataframe\">\n",
       "  <thead>\n",
       "    <tr style=\"text-align: right;\">\n",
       "      <th></th>\n",
       "      <th>label</th>\n",
       "      <th>doc</th>\n",
       "      <th>sentence1</th>\n",
       "      <th>sentence2</th>\n",
       "      <th>sentence3</th>\n",
       "      <th>sentence4</th>\n",
       "      <th>sentence5</th>\n",
       "    </tr>\n",
       "  </thead>\n",
       "  <tbody>\n",
       "    <tr>\n",
       "      <th>0</th>\n",
       "      <td>5</td>\n",
       "      <td>During the last two decades many developing co...</td>\n",
       "      <td>growing conflicts between tourists and local p...</td>\n",
       "      <td>roles of media in shaping the global trend in ...</td>\n",
       "      <td>necessity of global cooperation for sustainabl...</td>\n",
       "      <td>importance of the tourism industry in national...</td>\n",
       "      <td>developing nations’ need to improve destinatio...</td>\n",
       "    </tr>\n",
       "    <tr>\n",
       "      <th>1</th>\n",
       "      <td>5</td>\n",
       "      <td>In the last few years cartography has been sli...</td>\n",
       "      <td>various ways of collecting geographic data</td>\n",
       "      <td>various technologies involved in map-making</td>\n",
       "      <td>roles of maps in developing human civilizations</td>\n",
       "      <td>regained popularity of paper maps in the digit...</td>\n",
       "      <td>diminishing dominance of cartographic elites a...</td>\n",
       "    </tr>\n",
       "    <tr>\n",
       "      <th>2</th>\n",
       "      <td>2</td>\n",
       "      <td>If we look out of a window in winter, we might...</td>\n",
       "      <td>danger of evaluating things through appearance</td>\n",
       "      <td>what makes it difficult to predict a human’s life</td>\n",
       "      <td>how to discover the beauty of natural elements</td>\n",
       "      <td>effects of external conditions on one’s person...</td>\n",
       "      <td>necessity of observation for understanding obj...</td>\n",
       "    </tr>\n",
       "    <tr>\n",
       "      <th>3</th>\n",
       "      <td>2</td>\n",
       "      <td>The regional and local press faces its own dis...</td>\n",
       "      <td>local papers’ role in providing community news</td>\n",
       "      <td>local papers’ struggles in securing revenue on...</td>\n",
       "      <td>rivalries between online news agencies and pap...</td>\n",
       "      <td>reasons for a decline in the quality of online...</td>\n",
       "      <td>growing importance of national news over local...</td>\n",
       "    </tr>\n",
       "    <tr>\n",
       "      <th>4</th>\n",
       "      <td>3</td>\n",
       "      <td>Some city planning experts called for legislat...</td>\n",
       "      <td>the urgent necessity of regular safety drills ...</td>\n",
       "      <td>the serious effects of tech-addiction on cogni...</td>\n",
       "      <td>different strategies to address the problem of...</td>\n",
       "      <td>unexpected reasons why legislation against tex...</td>\n",
       "      <td>major conflicts between advanced technology an...</td>\n",
       "    </tr>\n",
       "  </tbody>\n",
       "</table>\n",
       "</div>"
      ],
      "text/plain": [
       "   label                                                doc  \\\n",
       "0      5  During the last two decades many developing co...   \n",
       "1      5  In the last few years cartography has been sli...   \n",
       "2      2  If we look out of a window in winter, we might...   \n",
       "3      2  The regional and local press faces its own dis...   \n",
       "4      3  Some city planning experts called for legislat...   \n",
       "\n",
       "                                           sentence1  \\\n",
       "0  growing conflicts between tourists and local p...   \n",
       "1         various ways of collecting geographic data   \n",
       "2     danger of evaluating things through appearance   \n",
       "3     local papers’ role in providing community news   \n",
       "4  the urgent necessity of regular safety drills ...   \n",
       "\n",
       "                                           sentence2  \\\n",
       "0  roles of media in shaping the global trend in ...   \n",
       "1       various technologies involved in map-making    \n",
       "2  what makes it difficult to predict a human’s life   \n",
       "3  local papers’ struggles in securing revenue on...   \n",
       "4  the serious effects of tech-addiction on cogni...   \n",
       "\n",
       "                                           sentence3  \\\n",
       "0  necessity of global cooperation for sustainabl...   \n",
       "1   roles of maps in developing human civilizations    \n",
       "2     how to discover the beauty of natural elements   \n",
       "3  rivalries between online news agencies and pap...   \n",
       "4  different strategies to address the problem of...   \n",
       "\n",
       "                                           sentence4  \\\n",
       "0  importance of the tourism industry in national...   \n",
       "1  regained popularity of paper maps in the digit...   \n",
       "2  effects of external conditions on one’s person...   \n",
       "3  reasons for a decline in the quality of online...   \n",
       "4  unexpected reasons why legislation against tex...   \n",
       "\n",
       "                                           sentence5  \n",
       "0  developing nations’ need to improve destinatio...  \n",
       "1  diminishing dominance of cartographic elites a...  \n",
       "2  necessity of observation for understanding obj...  \n",
       "3  growing importance of national news over local...  \n",
       "4  major conflicts between advanced technology an...  "
      ]
     },
     "execution_count": 85,
     "metadata": {},
     "output_type": "execute_result"
    }
   ],
   "source": [
    "df.head()"
   ]
  },
  {
   "cell_type": "code",
   "execution_count": 86,
   "metadata": {},
   "outputs": [],
   "source": [
    "df_label = df['label']\n",
    "df_doc = df.drop('label',axis=1)"
   ]
  },
  {
   "cell_type": "code",
   "execution_count": 87,
   "metadata": {},
   "outputs": [
    {
     "name": "stdout",
     "output_type": "stream",
     "text": [
      "67\n"
     ]
    }
   ],
   "source": [
    "print(len(df_doc))"
   ]
  },
  {
   "cell_type": "markdown",
   "metadata": {},
   "source": [
    "## cosine similarity"
   ]
  },
  {
   "cell_type": "code",
   "execution_count": 88,
   "metadata": {},
   "outputs": [],
   "source": [
    "import numpy as np\n",
    "\n",
    "def cos_similarity(v1,v2):\n",
    "    dot_product = np.dot(v1,v2)\n",
    "    l2_norm = (np.sqrt(sum(np.square(v1)))*np.sqrt(sum(np.square(v2))))\n",
    "    similarity = dot_product / l2_norm\n",
    "    \n",
    "    return similarity\n"
   ]
  },
  {
   "cell_type": "markdown",
   "metadata": {},
   "source": [
    "## TF-IDF Vectorization"
   ]
  },
  {
   "cell_type": "code",
   "execution_count": 89,
   "metadata": {},
   "outputs": [
    {
     "name": "stdout",
     "output_type": "stream",
     "text": [
      "accuarcy 0.47761194029850745\n"
     ]
    },
    {
     "name": "stderr",
     "output_type": "stream",
     "text": [
      "C:\\Users\\hoyeon\\Anaconda3\\lib\\site-packages\\ipykernel_launcher.py:6: RuntimeWarning: invalid value encountered in double_scalars\n",
      "  \n"
     ]
    }
   ],
   "source": [
    "my_label = []\n",
    "for i in range(len(df_doc)):\n",
    "    dfdf = df_doc.iloc[i]\n",
    "    tfidf_vect = TfidfVectorizer(stop_words='english',ngram_range=(1,2), max_df=100)\n",
    "    dd = tfidf_vect.fit_transform(dfdf)\n",
    "    dd = dd.todense()\n",
    "    a = 0\n",
    "    a_num = 0\n",
    "    vect0 = np.array(dd[0]).reshape(-1,)\n",
    "    for j in range(1,6):\n",
    "        vect1 = np.array(dd[j]).reshape(-1,)\n",
    "        b = cos_similarity(vect0,vect1)\n",
    "        if b > a:\n",
    "            a = b\n",
    "            a_num = j\n",
    "    my_label.append(a_num)\n",
    "print('accuarcy',metrics.accuracy_score(df_label,my_label))"
   ]
  },
  {
   "cell_type": "markdown",
   "metadata": {},
   "source": [
    "## Count Vectorization"
   ]
  },
  {
   "cell_type": "code",
   "execution_count": 90,
   "metadata": {},
   "outputs": [
    {
     "name": "stdout",
     "output_type": "stream",
     "text": [
      "accuarcy 0.4925373134328358\n"
     ]
    },
    {
     "name": "stderr",
     "output_type": "stream",
     "text": [
      "C:\\Users\\hoyeon\\Anaconda3\\lib\\site-packages\\ipykernel_launcher.py:6: RuntimeWarning: invalid value encountered in true_divide\n",
      "  \n"
     ]
    }
   ],
   "source": [
    "my_label = []\n",
    "for i in range(len(df_doc)):\n",
    "    dfdf = df_doc.iloc[i]\n",
    "    tfidf_vect = CountVectorizer(stop_words='english',ngram_range=(1,2), max_df=100, min_df=1)\n",
    "    dd = tfidf_vect.fit_transform(dfdf)\n",
    "    dd = dd.todense()\n",
    "    a = 0\n",
    "    a_num = 0\n",
    "    vect0 = np.array(dd[0]).reshape(-1,)\n",
    "    for j in range(1,6):\n",
    "        vect1 = np.array(dd[j]).reshape(-1,)\n",
    "        b = cos_similarity(vect0,vect1)\n",
    "        if b > a:\n",
    "            a = b\n",
    "            a_num = j\n",
    "    my_label.append(a_num)\n",
    "print('accuarcy',metrics.accuracy_score(df_label,my_label))"
   ]
  },
  {
   "cell_type": "markdown",
   "metadata": {},
   "source": [
    "## TF-IDF Vectorization & Latent Dirichlet Allocation"
   ]
  },
  {
   "cell_type": "code",
   "execution_count": 91,
   "metadata": {},
   "outputs": [
    {
     "name": "stdout",
     "output_type": "stream",
     "text": [
      "accuarcy 0.3880597014925373\n"
     ]
    }
   ],
   "source": [
    "from sklearn.decomposition import LatentDirichletAllocation\n",
    "\n",
    "my_label = []\n",
    "for i in range(len(df_doc)):\n",
    "    dfdf = df_doc.iloc[i]\n",
    "    tfidf_vect = TfidfVectorizer(stop_words='english',ngram_range=(1,2), max_df=100)\n",
    "    dd = tfidf_vect.fit_transform(dfdf)\n",
    "    dd = dd.T\n",
    "    lda = LatentDirichletAllocation(n_components=30,random_state=0)\n",
    "    lda.fit(dd)\n",
    "    dd = lda.components_.T\n",
    "    a = 0\n",
    "    a_num = 0\n",
    "    vect0 = np.array(dd[0]).reshape(-1,)\n",
    "    for j in range(1,6):\n",
    "        vect1 = np.array(dd[j]).reshape(-1,)\n",
    "        b = cos_similarity(vect0,vect1)\n",
    "        if b > a:\n",
    "            a = b\n",
    "            a_num = j\n",
    "    my_label.append(a_num)\n",
    "print('accuarcy',metrics.accuracy_score(df_label,my_label))"
   ]
  },
  {
   "cell_type": "markdown",
   "metadata": {},
   "source": [
    "## Count Vectorization & Latent Dirichlet Allocation"
   ]
  },
  {
   "cell_type": "code",
   "execution_count": 92,
   "metadata": {},
   "outputs": [
    {
     "name": "stdout",
     "output_type": "stream",
     "text": [
      "accuarcy 0.26865671641791045\n"
     ]
    }
   ],
   "source": [
    "from sklearn.decomposition import LatentDirichletAllocation\n",
    "\n",
    "my_label = []\n",
    "for i in range(len(df_doc)):\n",
    "    dfdf = df_doc.iloc[i]\n",
    "    tfidf_vect = CountVectorizer(stop_words='english',ngram_range=(1,2), max_df=100)\n",
    "    dd = tfidf_vect.fit_transform(dfdf)\n",
    "    dd = dd.T\n",
    "    lda = LatentDirichletAllocation(n_components=10,random_state=0)\n",
    "    lda.fit(dd)\n",
    "    dd = lda.components_.T\n",
    "    a = 0\n",
    "    a_num = 0\n",
    "    vect0 = np.array(dd[0]).reshape(-1,)\n",
    "    for j in range(1,6):\n",
    "        vect1 = np.array(dd[j]).reshape(-1,)\n",
    "        b = cos_similarity(vect0,vect1)\n",
    "        if b > a:\n",
    "            a = b\n",
    "            a_num = j\n",
    "    my_label.append(a_num)\n",
    "print('accuarcy',metrics.accuracy_score(df_label,my_label))"
   ]
  },
  {
   "cell_type": "code",
   "execution_count": null,
   "metadata": {},
   "outputs": [],
   "source": []
  }
 ],
 "metadata": {
  "kernelspec": {
   "display_name": "Python 3",
   "language": "python",
   "name": "python3"
  },
  "language_info": {
   "codemirror_mode": {
    "name": "ipython",
    "version": 3
   },
   "file_extension": ".py",
   "mimetype": "text/x-python",
   "name": "python",
   "nbconvert_exporter": "python",
   "pygments_lexer": "ipython3",
   "version": "3.7.1"
  }
 },
 "nbformat": 4,
 "nbformat_minor": 2
}
